{
 "cells": [
  {
   "attachments": {},
   "cell_type": "markdown",
   "id": "e6771cfd",
   "metadata": {},
   "source": [
    "In biomedical context, Named Entities Recognition is often followed Relation Detection (RD), meaning connecting various biomedical entities with each other to find meaningful interactions that can be further explored. Due to a large number of different named entity classes in the biomedical field, there is a combinatorial explosion between those entities. Hence, using biological experiments to determine which of these relationships are the most significant ones (which is the current way in most R&D labs) is too costly and time-consuming. However, by parsing millions of biomedical research articles using computational approaches, it is possible to identify millions of such associations for creating networks. For instance, identifying the interactions of proteins allows the construction of protein-protein interaction networks. As such, relation networks provide the possibility to narrow down previously-unknown and intriguing connections to explore further with the help of previously established associations. Moreover, they also provide a global view on different biological entities and their interactions, such as disease, genes, food, drugs, side effects, pathways, and toxins, opening new routes of research.\n",
    "\n",
    "\n",
    "In this short project I demonstrate the use of a NER model to annotate genes trained on 2000 abstracts reviewed in sysrev's Gene Hunter project. The Gene Hunter project was a 2000 article open online review of pubmed abstracts. 15 reviewers highlighted genes in text. Sysrev data is accessible using the Sysrev Python client PySysrev. The gene hunter project has the project_id 3144 which is all we need to get data from PySysrev.getAnnotations api call.\n",
    "PySysrev provides an API call to download data into a shape spaCy can handle.\n",
    "\n",
    "Next, I will be using the NER model for relation detection between genes to various biomedical entities."
   ]
  },
  {
   "cell_type": "code",
   "execution_count": 16,
   "id": "4fecba9f",
   "metadata": {},
   "outputs": [],
   "source": [
    "#pip install PySysrev\n"
   ]
  },
  {
   "cell_type": "code",
   "execution_count": 15,
   "id": "393b0b84",
   "metadata": {},
   "outputs": [],
   "source": [
    "#pip install spacy"
   ]
  },
  {
   "cell_type": "code",
   "execution_count": 10,
   "id": "9ae6380e",
   "metadata": {},
   "outputs": [],
   "source": [
    "import PySysrev, spacy, random\n",
    "from spacy import displacy"
   ]
  },
  {
   "cell_type": "markdown",
   "id": "24d9f2f5",
   "metadata": {},
   "source": [
    "Get spacy ready annotations from Gene Hunter as list of annotated pharagraphs:"
   ]
  },
  {
   "cell_type": "code",
   "execution_count": 4,
   "id": "3d7746c6",
   "metadata": {},
   "outputs": [],
   "source": [
    "processed_output = PySysrev.processAnnotations(project_id=3144,label='GENE')\n"
   ]
  },
  {
   "attachments": {},
   "cell_type": "markdown",
   "id": "bd2a8fa4",
   "metadata": {},
   "source": [
    "Create a model with spacy and name it 'Gene':"
   ]
  },
  {
   "cell_type": "code",
   "execution_count": 13,
   "id": "cee85729",
   "metadata": {},
   "outputs": [],
   "source": [
    "nlp = spacy.load(\"en_core_web_sm\")\n",
    "nlp.meta['name'] = 'Gene'"
   ]
  },
  {
   "cell_type": "markdown",
   "id": "368c04f7",
   "metadata": {},
   "source": [
    "Create NER and an optimizer for training:"
   ]
  },
  {
   "cell_type": "code",
   "execution_count": null,
   "id": "92fffc52",
   "metadata": {},
   "outputs": [],
   "source": [
    "ner = nlp.create_pipe('ner')\n",
    "ner.add_label('GENE')\n",
    "nlp.add_pipe(ner)\n",
    "optimizer = nlp.begin_training()"
   ]
  },
  {
   "attachments": {},
   "cell_type": "markdown",
   "id": "20080de9",
   "metadata": {},
   "source": [
    "To train the model I repeatedly call nlp.update on the training corpus processed_output. Each iteration is referred to as an 'cycles' and the model should improve on each call. Internally spacy is fitting a complex model to the ~1000 training instances provided by Sysrev:"
   ]
  },
  {
   "cell_type": "code",
   "execution_count": null,
   "id": "32d1f9d6",
   "metadata": {},
   "outputs": [],
   "source": [
    "cycles = 30\n",
    "for i in range(cycles):\n",
    "    random.shuffle(processed_output)                     #shuffle examples \n",
    "    text = [item[0] for item in processed_output]        #get training text items\n",
    "    annotations = [item[1] for item in processed_output] #get training annotations\n",
    "    nlp.update(text, annotations, sgd=optimizer, drop=0.6)"
   ]
  },
  {
   "cell_type": "markdown",
   "id": "3158f3c3",
   "metadata": {},
   "source": [
    "I visualize the model abilities on a paragraph taken from a random paper from pubmed. I use the spacy displacy visualizer. The model seems to work: it captures the 4 genes in the segment, while skipping on IIS which is a pathway entity:"
   ]
  },
  {
   "cell_type": "code",
   "execution_count": null,
   "id": "e98d037c",
   "metadata": {},
   "outputs": [],
   "source": [
    "doc = nlp(\"\"\"Two main classes have been described of lifespan-extension mutants\n",
    "        in Caenorhabditis elegans. The first consists of genes with activity\n",
    "        in the mitochondrial electron transport chain, such as clk-1 and isp-1, \n",
    "        whose mutation moderately reduces oxidative phosphorylation capacity and prolongs\n",
    "        life in worms; these mutations established the first link between energy metabolism\n",
    "        and longevity. The second mutant class is related to hormone mechanisms of the\n",
    "        insulin/IGF-I signaling (IIS) pathway, such as daf-2 and age-1 mutants,\n",
    "        which extend lifespan in worms, flies and mice.\"\"\")\n",
    "\n",
    "displacy.serve(doc, style=\"ent\")\n"
   ]
  },
  {
   "cell_type": "markdown",
   "id": "8cab2df4",
   "metadata": {},
   "source": [
    "\n",
    "\n",
    "\n",
    "\n",
    "\n",
    "\n",
    "\n",
    "\n",
    "\n",
    "\n",
    "\n",
    "Two main classes have been described of lifespan-extension mutants\n",
    "in Caenorhabditis elegans. The first consists of genes with activity\n",
    "in the mitochondrial electron transport chain, such as clk-1 GENE and isp-1 GENE, \n",
    "whose mutation moderately reduces oxidative phosphorylation capacity and prolongs\n",
    "life in worms; these mutations established the first link between energy metabolism\n",
    "and longevity. The second mutant class is related to hormone mechanisms of the\n",
    "insulin/IGF-I signaling (IIS) pathway, such as daf-2 GENE and age-1 GENE mutants,\n",
    "which extend lifespan in worms, flies and mice.\"\"\")"
   ]
  },
  {
   "cell_type": "code",
   "execution_count": null,
   "id": "300871e6",
   "metadata": {},
   "outputs": [],
   "source": []
  }
 ],
 "metadata": {
  "kernelspec": {
   "display_name": "Python 3",
   "language": "python",
   "name": "python3"
  },
  "language_info": {
   "codemirror_mode": {
    "name": "ipython",
    "version": 3
   },
   "file_extension": ".py",
   "mimetype": "text/x-python",
   "name": "python",
   "nbconvert_exporter": "python",
   "pygments_lexer": "ipython3",
   "version": "3.7.7"
  }
 },
 "nbformat": 4,
 "nbformat_minor": 5
}
