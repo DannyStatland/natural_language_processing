{
 "cells": [
  {
   "cell_type": "code",
   "execution_count": null,
   "id": "4fecba9f",
   "metadata": {},
   "outputs": [],
   "source": [
    "pip install PySysrev"
   ]
  },
  {
   "cell_type": "code",
   "execution_count": null,
   "id": "9ae6380e",
   "metadata": {},
   "outputs": [],
   "source": [
    "import PySysrev, spacy, random\n",
    "from spacy import displacy"
   ]
  },
  {
   "cell_type": "markdown",
   "id": "24d9f2f5",
   "metadata": {},
   "source": [
    "Get spacy ready annotations from Gene Hunter as list of annotated pharagraphs:"
   ]
  },
  {
   "cell_type": "code",
   "execution_count": null,
   "id": "3d7746c6",
   "metadata": {},
   "outputs": [],
   "source": [
    "processed_output = PySysrev.processAnnotations(project_id=3144,label='GENE')\n"
   ]
  },
  {
   "cell_type": "markdown",
   "id": "bd2a8fa4",
   "metadata": {},
   "source": [
    "Create a model with spacy and name it 'Gene':"
   ]
  },
  {
   "cell_type": "code",
   "execution_count": null,
   "id": "cee85729",
   "metadata": {},
   "outputs": [],
   "source": [
    "nlp = spacy.load('en_core_web_sm')\n",
    "nlp.meta['name'] = 'Gene'"
   ]
  },
  {
   "cell_type": "markdown",
   "id": "368c04f7",
   "metadata": {},
   "source": [
    "Create NER and an optimizer for training:"
   ]
  },
  {
   "cell_type": "code",
   "execution_count": null,
   "id": "92fffc52",
   "metadata": {},
   "outputs": [],
   "source": [
    "ner = nlp.create_pipe('ner')\n",
    "ner.add_label('GENE')\n",
    "nlp.add_pipe(ner)\n",
    "optimizer = nlp.begin_training()"
   ]
  },
  {
   "cell_type": "markdown",
   "id": "20080de9",
   "metadata": {},
   "source": [
    "Training:"
   ]
  },
  {
   "cell_type": "code",
   "execution_count": null,
   "id": "32d1f9d6",
   "metadata": {},
   "outputs": [],
   "source": [
    "cycles = 30\n",
    "for i in range(cycles):\n",
    "    random.shuffle(processed_output)                     #shuffle examples \n",
    "    text = [item[0] for item in processed_output]        #get training text items\n",
    "    annotations = [item[1] for item in processed_output] #get training annotations\n",
    "    nlp.update(text, annotations, sgd=optimizer, drop=0.6)"
   ]
  },
  {
   "cell_type": "code",
   "execution_count": null,
   "id": "e98d037c",
   "metadata": {},
   "outputs": [],
   "source": [
    "doc = nlp(\"\"\"Two main classes have been described of lifespan-extension mutants\n",
    "        in Caenorhabditis elegans. The first consists of genes with activity\n",
    "        in the mitochondrial electron transport chain, such as clk-1 and isp-1, \n",
    "        whose mutation moderately reduces oxidative phosphorylation capacity and prolongs\n",
    "        life in worms; these mutations established the first link between energy metabolism\n",
    "        and longevity. The second mutant class is related to hormone mechanisms of the\n",
    "        insulin/IGF-I signaling (IIS) pathway, such as daf-2 and age-1 mutants,\n",
    "        which extend lifespan in worms, flies and mice.\"\"\")\n",
    "\n",
    "displacy.serve(doc, style=\"ent\")\n"
   ]
  },
  {
   "cell_type": "markdown",
   "id": "8cab2df4",
   "metadata": {},
   "source": [
    "Two main classes have been described of lifespan-extension mutants\n",
    "in Caenorhabditis elegans. The first consists of genes with activity\n",
    "in the mitochondrial electron transport chain, such as clk-1 GENE and isp-1 GENE, \n",
    "whose mutation moderately reduces oxidative phosphorylation capacity and prolongs\n",
    "life in worms; these mutations established the first link between energy metabolism\n",
    "and longevity. The second mutant class is related to hormone mechanisms of the\n",
    "insulin/IGF-I signaling (IIS) pathway, such as daf-2 GENE and age-1 GENE mutants,\n",
    "which extend lifespan in worms, flies and mice.\"\"\")"
   ]
  },
  {
   "cell_type": "code",
   "execution_count": null,
   "id": "7895f3b9",
   "metadata": {},
   "outputs": [],
   "source": [
    "\n",
    "\n"
   ]
  },
  {
   "cell_type": "code",
   "execution_count": 1,
   "id": "5bf72ecb",
   "metadata": {},
   "outputs": [
    {
     "name": "stdout",
     "output_type": "stream",
     "text": [
      "hello\n"
     ]
    }
   ],
   "source": [
    "print(\"hello\")"
   ]
  },
  {
   "cell_type": "code",
   "execution_count": null,
   "id": "300871e6",
   "metadata": {},
   "outputs": [],
   "source": []
  }
 ],
 "metadata": {
  "kernelspec": {
   "display_name": "Python 3 (ipykernel)",
   "language": "python",
   "name": "python3"
  },
  "language_info": {
   "codemirror_mode": {
    "name": "ipython",
    "version": 3
   },
   "file_extension": ".py",
   "mimetype": "text/x-python",
   "name": "python",
   "nbconvert_exporter": "python",
   "pygments_lexer": "ipython3",
   "version": "3.8.2"
  }
 },
 "nbformat": 4,
 "nbformat_minor": 5
}
