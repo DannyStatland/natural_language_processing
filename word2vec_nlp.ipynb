{
 "cells": [
  {
   "cell_type": "markdown",
   "id": "5c9e43fc",
   "metadata": {},
   "source": [
    "<b>The goal of this project is to train a predictive language model - Word2Vec, to learn word associations in a large corpus and encode the relatedness into vector similarity. This model will be able to detect synonymous words or suggest additional words for a partial sentence.</b>"
   ]
  },
  {
   "cell_type": "markdown",
   "id": "c4af413c",
   "metadata": {},
   "source": [
    " The following dataset was downloaded from Kaggle and contains 3.6 million random Amazon reviews"
   ]
  },
  {
   "cell_type": "code",
   "execution_count": 156,
   "id": "66b3a621",
   "metadata": {},
   "outputs": [],
   "source": [
    "import numpy as np\n",
    "import pandas as pd\n",
    "import os\n",
    "os.environ[\"KMP_DUPLICATE_LIB_OK\"]=\"TRUE\"\n",
    "%matplotlib inline\n",
    "import gensim\n",
    "import logging\n",
    "logging.basicConfig(format='%(asctime)s: %(levelname)s: %(message)s', level = logging.ERROR) "
   ]
  },
  {
   "cell_type": "code",
   "execution_count": 2,
   "id": "898241b3",
   "metadata": {},
   "outputs": [],
   "source": [
    "df = pd.read_csv(r'/Users/dannystatland/Drive/MBA/machine_learning/ex2/amazon_reviews.csv')"
   ]
  },
  {
   "cell_type": "code",
   "execution_count": 3,
   "id": "d946a49e",
   "metadata": {},
   "outputs": [],
   "source": [
    "df = df.rename(columns={'This sound track was beautiful! It paints the senery in your mind so well I would recomend it even to people who hate vid. game music! I have played the game Chrono Cross but out of all of the games I have ever played it has the best music! It backs away from crude keyboarding and takes a fresher step with grate guitars and soulful orchestras. It would impress anyone who cares to listen! ^_^': 'review'})"
   ]
  },
  {
   "cell_type": "code",
   "execution_count": 8,
   "id": "ad2d87a8",
   "metadata": {},
   "outputs": [],
   "source": [
    "df.drop(['2','Stuning even for the non-gamer'], axis=1, inplace=True)"
   ]
  },
  {
   "cell_type": "code",
   "execution_count": 157,
   "id": "7bd57406",
   "metadata": {},
   "outputs": [
    {
     "data": {
      "text/html": [
       "<div>\n",
       "<style scoped>\n",
       "    .dataframe tbody tr th:only-of-type {\n",
       "        vertical-align: middle;\n",
       "    }\n",
       "\n",
       "    .dataframe tbody tr th {\n",
       "        vertical-align: top;\n",
       "    }\n",
       "\n",
       "    .dataframe thead th {\n",
       "        text-align: right;\n",
       "    }\n",
       "</style>\n",
       "<table border=\"1\" class=\"dataframe\">\n",
       "  <thead>\n",
       "    <tr style=\"text-align: right;\">\n",
       "      <th></th>\n",
       "      <th>review</th>\n",
       "    </tr>\n",
       "  </thead>\n",
       "  <tbody>\n",
       "    <tr>\n",
       "      <th>0</th>\n",
       "      <td>I'm reading a lot of reviews saying that this ...</td>\n",
       "    </tr>\n",
       "    <tr>\n",
       "      <th>1</th>\n",
       "      <td>This soundtrack is my favorite music of all ti...</td>\n",
       "    </tr>\n",
       "    <tr>\n",
       "      <th>2</th>\n",
       "      <td>I truly like this soundtrack and I enjoy video...</td>\n",
       "    </tr>\n",
       "    <tr>\n",
       "      <th>3</th>\n",
       "      <td>If you've played the game, you know how divine...</td>\n",
       "    </tr>\n",
       "    <tr>\n",
       "      <th>4</th>\n",
       "      <td>I am quite sure any of you actually taking the...</td>\n",
       "    </tr>\n",
       "    <tr>\n",
       "      <th>5</th>\n",
       "      <td>This is a self-published book, and if you want...</td>\n",
       "    </tr>\n",
       "    <tr>\n",
       "      <th>6</th>\n",
       "      <td>I loved Whisper of the wicked saints. The stor...</td>\n",
       "    </tr>\n",
       "    <tr>\n",
       "      <th>7</th>\n",
       "      <td>I just finished reading Whisper of the Wicked ...</td>\n",
       "    </tr>\n",
       "    <tr>\n",
       "      <th>8</th>\n",
       "      <td>This was a easy to read book that made me want...</td>\n",
       "    </tr>\n",
       "    <tr>\n",
       "      <th>9</th>\n",
       "      <td>A complete waste of time. Typographical errors...</td>\n",
       "    </tr>\n",
       "    <tr>\n",
       "      <th>10</th>\n",
       "      <td>This was a great book,I just could not put it ...</td>\n",
       "    </tr>\n",
       "    <tr>\n",
       "      <th>11</th>\n",
       "      <td>I thought this book was brilliant, but yet rea...</td>\n",
       "    </tr>\n",
       "    <tr>\n",
       "      <th>12</th>\n",
       "      <td>I guess you have to be a romance novel lover f...</td>\n",
       "    </tr>\n",
       "    <tr>\n",
       "      <th>13</th>\n",
       "      <td>I feel I have to write to keep others from was...</td>\n",
       "    </tr>\n",
       "    <tr>\n",
       "      <th>14</th>\n",
       "      <td>It's glaringly obvious that all of the glowing...</td>\n",
       "    </tr>\n",
       "    <tr>\n",
       "      <th>15</th>\n",
       "      <td>When you hear folks say that they don't make '...</td>\n",
       "    </tr>\n",
       "    <tr>\n",
       "      <th>16</th>\n",
       "      <td>After I had a DVT my doctor required me to wea...</td>\n",
       "    </tr>\n",
       "    <tr>\n",
       "      <th>17</th>\n",
       "      <td>Excellent product. However, they are very diff...</td>\n",
       "    </tr>\n",
       "    <tr>\n",
       "      <th>18</th>\n",
       "      <td>sizes are much smaller than what is recomended...</td>\n",
       "    </tr>\n",
       "    <tr>\n",
       "      <th>19</th>\n",
       "      <td>This model may be ok for sedentary types, but ...</td>\n",
       "    </tr>\n",
       "  </tbody>\n",
       "</table>\n",
       "</div>"
      ],
      "text/plain": [
       "                                               review\n",
       "0   I'm reading a lot of reviews saying that this ...\n",
       "1   This soundtrack is my favorite music of all ti...\n",
       "2   I truly like this soundtrack and I enjoy video...\n",
       "3   If you've played the game, you know how divine...\n",
       "4   I am quite sure any of you actually taking the...\n",
       "5   This is a self-published book, and if you want...\n",
       "6   I loved Whisper of the wicked saints. The stor...\n",
       "7   I just finished reading Whisper of the Wicked ...\n",
       "8   This was a easy to read book that made me want...\n",
       "9   A complete waste of time. Typographical errors...\n",
       "10  This was a great book,I just could not put it ...\n",
       "11  I thought this book was brilliant, but yet rea...\n",
       "12  I guess you have to be a romance novel lover f...\n",
       "13  I feel I have to write to keep others from was...\n",
       "14  It's glaringly obvious that all of the glowing...\n",
       "15  When you hear folks say that they don't make '...\n",
       "16  After I had a DVT my doctor required me to wea...\n",
       "17  Excellent product. However, they are very diff...\n",
       "18  sizes are much smaller than what is recomended...\n",
       "19  This model may be ok for sedentary types, but ..."
      ]
     },
     "execution_count": 157,
     "metadata": {},
     "output_type": "execute_result"
    }
   ],
   "source": [
    "df.head(20)"
   ]
  },
  {
   "cell_type": "code",
   "execution_count": 14,
   "id": "9dbf3c67",
   "metadata": {},
   "outputs": [
    {
     "data": {
      "text/plain": [
       "(3599999, 1)"
      ]
     },
     "execution_count": 14,
     "metadata": {},
     "output_type": "execute_result"
    }
   ],
   "source": [
    "df.shape"
   ]
  },
  {
   "cell_type": "code",
   "execution_count": 42,
   "id": "50e4f110",
   "metadata": {},
   "outputs": [],
   "source": [
    "content = [gensim.utils.simple_preprocess(line) for line in df['review']]"
   ]
  },
  {
   "cell_type": "code",
   "execution_count": 43,
   "id": "79d07cbd",
   "metadata": {},
   "outputs": [],
   "source": [
    "model = gensim.models.Word2Vec(sentences=content, \n",
    "    vector_size=300, \n",
    "    window=7, \n",
    "    min_count=2, \n",
    "    epochs=5,\n",
    "    sg=0, \n",
    "    workers=12) "
   ]
  },
  {
   "cell_type": "code",
   "execution_count": 44,
   "id": "9aed439f",
   "metadata": {},
   "outputs": [
    {
     "name": "stdout",
     "output_type": "stream",
     "text": [
      "Size of the corpus: 3599999. Total number of words: 253120184\n",
      "Vector size: 300. Dictionary size: 347228\n",
      "vector size: (347228, 300) or (347228, 300)\n"
     ]
    }
   ],
   "source": [
    "print(f\"Size of the corpus: {model.corpus_count}. Total number of words: {model.corpus_total_words}\")\n",
    "print(f\"Vector size: {model.vector_size}. Dictionary size: {len(model.wv)}\")\n",
    "print(f\"vector size: {model.syn1neg.shape} or {model.wv.vectors.shape}\")"
   ]
  },
  {
   "cell_type": "code",
   "execution_count": 79,
   "id": "f36406a4",
   "metadata": {},
   "outputs": [
    {
     "data": {
      "text/plain": [
       "(0.33706265687942505, 0.3031187057495117, 0.23520660400390625)"
      ]
     },
     "execution_count": 79,
     "metadata": {},
     "output_type": "execute_result"
    }
   ],
   "source": [
    "#Compute distance between terms\n",
    "model.wv.distance('coffee', 'tea'), model.wv.distance('excellent', 'great'),  model.wv.distance('container', 'canister')"
   ]
  },
  {
   "cell_type": "code",
   "execution_count": 88,
   "id": "74072b6c",
   "metadata": {},
   "outputs": [
    {
     "data": {
      "text/plain": [
       "array([ 3.3706266e-01, -1.1920929e-07,  3.4367758e-01,  1.9195610e-01],\n",
       "      dtype=float32)"
      ]
     },
     "execution_count": 88,
     "metadata": {},
     "output_type": "execute_result"
    }
   ],
   "source": [
    "model.wv.distances('coffee', ['tea', 'coffee','latte', 'espresso']) # distance to each of the words in list"
   ]
  },
  {
   "cell_type": "code",
   "execution_count": 87,
   "id": "c8794000",
   "metadata": {},
   "outputs": [
    {
     "data": {
      "text/plain": [
       "['coffee',\n",
       " 'coffe',\n",
       " 'espresso',\n",
       " 'cofee',\n",
       " 'cappuccino',\n",
       " 'expresso',\n",
       " 'brew',\n",
       " 'tea',\n",
       " 'latte',\n",
       " 'coffeemaker']"
      ]
     },
     "execution_count": 87,
     "metadata": {},
     "output_type": "execute_result"
    }
   ],
   "source": [
    "distances = model.wv.distances('coffee') \n",
    "[model.wv.index_to_key[key] for key in np.argsort(distances)[:10]]"
   ]
  },
  {
   "cell_type": "code",
   "execution_count": 152,
   "id": "00f0ebc0",
   "metadata": {},
   "outputs": [
    {
     "data": {
      "text/plain": [
       "['bus',\n",
       " 'trains',\n",
       " 'wagon',\n",
       " 'subway',\n",
       " 'sled',\n",
       " 'railway',\n",
       " 'sleigh',\n",
       " 'buses',\n",
       " 'brio',\n",
       " 'bulldozer',\n",
       " 'racetrack',\n",
       " 'ethie']"
      ]
     },
     "execution_count": 152,
     "metadata": {},
     "output_type": "execute_result"
    }
   ],
   "source": [
    "#Get all keys that are closer to key1 than key2 is to key1\n",
    "model.wv.closer_than('train', 'plane')"
   ]
  },
  {
   "cell_type": "code",
   "execution_count": 101,
   "id": "f5e1c2e8",
   "metadata": {},
   "outputs": [
    {
     "data": {
      "text/plain": [
       "'paratrooper'"
      ]
     },
     "execution_count": 101,
     "metadata": {},
     "output_type": "execute_result"
    }
   ],
   "source": [
    "model.wv.doesnt_match(['window', 'door', 'stairs', 'paratrooper'])"
   ]
  },
  {
   "cell_type": "code",
   "execution_count": 109,
   "id": "a2424f38",
   "metadata": {},
   "outputs": [
    {
     "data": {
      "text/plain": [
       "'vans'"
      ]
     },
     "execution_count": 109,
     "metadata": {},
     "output_type": "execute_result"
    }
   ],
   "source": [
    "model.wv.doesnt_match(['adidas', 'nike', 'new balance', 'vans'])"
   ]
  },
  {
   "cell_type": "code",
   "execution_count": 112,
   "id": "50c1246d",
   "metadata": {},
   "outputs": [
    {
     "data": {
      "text/plain": [
       "'car'"
      ]
     },
     "execution_count": 112,
     "metadata": {},
     "output_type": "execute_result"
    }
   ],
   "source": [
    "model.wv.doesnt_match(['plane', 'space shuttle', 'helicopter', 'car'])"
   ]
  },
  {
   "cell_type": "code",
   "execution_count": 117,
   "id": "769a97c6",
   "metadata": {},
   "outputs": [
    {
     "data": {
      "text/plain": [
       "(347228,)"
      ]
     },
     "execution_count": 117,
     "metadata": {},
     "output_type": "execute_result"
    }
   ],
   "source": [
    "#Cosine similarity between a vector and a matrix of vectors\n",
    "model.wv.cosine_similarities(model.wv['nike'], model.wv.vectors).shape"
   ]
  },
  {
   "cell_type": "code",
   "execution_count": 154,
   "id": "1c7ce00f",
   "metadata": {},
   "outputs": [
    {
     "data": {
      "text/plain": [
       "[('traveling', 0.49178817868232727),\n",
       " ('portable', 0.42995724081993103),\n",
       " ('travelling', 0.42399126291275024),\n",
       " ('rv', 0.412985235452652),\n",
       " ('purse', 0.40917715430259705),\n",
       " ('motorhome', 0.4021863341331482),\n",
       " ('carry', 0.39855170249938965),\n",
       " ('transport', 0.3972422182559967)]"
      ]
     },
     "execution_count": 154,
     "metadata": {},
     "output_type": "execute_result"
    }
   ],
   "source": [
    "#play with trained data\n",
    "from sklearn.preprocessing import normalize\n",
    "\n",
    "v = normalize(model.wv['travel'].reshape(1,-1))  \\\n",
    "    - normalize(model.wv['plane'].reshape(1,-1)) \\\n",
    "    + normalize(model.wv['car'].reshape(1,-1))\n",
    "\n",
    "[(key, sim) for key, sim in model.wv.most_similar(v) if key not in ['travel', 'plane', 'car']] # remove source words"
   ]
  },
  {
   "cell_type": "code",
   "execution_count": 155,
   "id": "b309dbe5",
   "metadata": {},
   "outputs": [
    {
     "data": {
      "text/plain": [
       "[('traveling', 0.5229520201683044),\n",
       " ('traveller', 0.5130165815353394),\n",
       " ('travelling', 0.5113769173622131),\n",
       " ('traveler', 0.5096741318702698),\n",
       " ('travelers', 0.47555598616600037),\n",
       " ('flight', 0.47495096921920776),\n",
       " ('travels', 0.4616290330886841),\n",
       " ('travellers', 0.4573076665401459),\n",
       " ('sailing', 0.45491278171539307),\n",
       " ('flights', 0.43874984979629517),\n",
       " ('machu', 0.43307238817214966),\n",
       " ('traveled', 0.4288750886917114),\n",
       " ('frommer', 0.42803341150283813),\n",
       " ('travelogue', 0.421441912651062),\n",
       " ('galapagos', 0.42039623856544495),\n",
       " ('airline', 0.41551995277404785),\n",
       " ('canoeing', 0.4136318564414978),\n",
       " ('concorde', 0.41104909777641296),\n",
       " ('backpacking', 0.40802204608917236),\n",
       " ('picchu', 0.40571582317352295),\n",
       " ('belize', 0.40074464678764343),\n",
       " ('planes', 0.40006712079048157),\n",
       " ('peru', 0.39813318848609924),\n",
       " ('voyage', 0.3971570134162903),\n",
       " ('tourism', 0.39436835050582886)]"
      ]
     },
     "execution_count": 155,
     "metadata": {},
     "output_type": "execute_result"
    }
   ],
   "source": [
    "model.wv.most_similar(positive = ['travel', 'plane'], negative=['car'],topn=25 )"
   ]
  },
  {
   "cell_type": "code",
   "execution_count": 131,
   "id": "a5377cde",
   "metadata": {},
   "outputs": [
    {
     "data": {
      "text/plain": [
       "[('speedo', 0.6434626579284668),\n",
       " ('adidas', 0.6376157999038696),\n",
       " ('asics', 0.6318009495735168),\n",
       " ('triax', 0.6263116002082825),\n",
       " ('timex', 0.6221684813499451),\n",
       " ('reebok', 0.6173878312110901),\n",
       " ('rockport', 0.6008673310279846),\n",
       " ('suunto', 0.596798300743103),\n",
       " ('seiko', 0.5903413891792297),\n",
       " ('dockers', 0.5786839127540588)]"
      ]
     },
     "execution_count": 131,
     "metadata": {},
     "output_type": "execute_result"
    }
   ],
   "source": [
    "model.wv.most_similar(positive = ['nike'],topn=10)"
   ]
  },
  {
   "cell_type": "code",
   "execution_count": 143,
   "id": "40b83633",
   "metadata": {},
   "outputs": [
    {
     "data": {
      "text/plain": [
       "[('flowers', 0.6981518268585205),\n",
       " ('petals', 0.6193898320198059),\n",
       " ('blooming', 0.609285295009613),\n",
       " ('flowering', 0.6071677207946777),\n",
       " ('garden', 0.5877366662025452),\n",
       " ('butterfly', 0.5793254971504211),\n",
       " ('bouquet', 0.5792271494865417),\n",
       " ('rose', 0.5418193936347961),\n",
       " ('vase', 0.5413583517074585),\n",
       " ('lilies', 0.5412375330924988)]"
      ]
     },
     "execution_count": 143,
     "metadata": {},
     "output_type": "execute_result"
    }
   ],
   "source": [
    "model.wv.most_similar(positive = ['flower'],topn=10 )"
   ]
  },
  {
   "cell_type": "code",
   "execution_count": 149,
   "id": "be0d3e15",
   "metadata": {},
   "outputs": [
    {
     "data": {
      "text/plain": [
       "[('chilly', 0.5713422298431396),\n",
       " ('colder', 0.5294924974441528),\n",
       " ('humid', 0.5113628506660461),\n",
       " ('frigid', 0.5016564130783081),\n",
       " ('climates', 0.486576110124588),\n",
       " ('coldest', 0.477715402841568),\n",
       " ('warmer', 0.4672723412513733),\n",
       " ('winters', 0.462340384721756),\n",
       " ('muggy', 0.4619383215904236),\n",
       " ('warm', 0.45892903208732605),\n",
       " ('toasty', 0.42792022228240967),\n",
       " ('summer', 0.414188414812088),\n",
       " ('sweltering', 0.4141833484172821),\n",
       " ('wintry', 0.40693551301956177),\n",
       " ('freezer', 0.39670154452323914),\n",
       " ('wintery', 0.3942726254463196),\n",
       " ('drafty', 0.3858770430088043),\n",
       " ('cozy', 0.38215172290802),\n",
       " ('heated', 0.38056182861328125),\n",
       " ('chilled', 0.3805472254753113),\n",
       " ('wintertime', 0.379264771938324),\n",
       " ('thawing', 0.37907934188842773),\n",
       " ('bloodedly', 0.3786478340625763),\n",
       " ('temperate', 0.37447041273117065),\n",
       " ('clammy', 0.36930274963378906)]"
      ]
     },
     "execution_count": 149,
     "metadata": {},
     "output_type": "execute_result"
    }
   ],
   "source": [
    "model.wv.most_similar(positive = ['winter', 'cold'], negative=['rain'],topn=25 )"
   ]
  },
  {
   "cell_type": "markdown",
   "id": "2cab3d76",
   "metadata": {},
   "source": [
    "Through all the examples we see the model behaves as expected."
   ]
  },
  {
   "cell_type": "code",
   "execution_count": null,
   "id": "74220b93",
   "metadata": {},
   "outputs": [],
   "source": []
  }
 ],
 "metadata": {
  "kernelspec": {
   "display_name": "Python 3 (ipykernel)",
   "language": "python",
   "name": "python3"
  },
  "language_info": {
   "codemirror_mode": {
    "name": "ipython",
    "version": 3
   },
   "file_extension": ".py",
   "mimetype": "text/x-python",
   "name": "python",
   "nbconvert_exporter": "python",
   "pygments_lexer": "ipython3",
   "version": "3.10.0"
  }
 },
 "nbformat": 4,
 "nbformat_minor": 5
}
