{
 "cells": [
  {
   "cell_type": "markdown",
   "id": "3549f1b3",
   "metadata": {},
   "source": [
    "<b>This project is about creating distribution of word frequencies in Wikipedia dataset. We will find out the number of unique words in the Wikipedia dataset, the total number of words, the 20 most frequent words and the fraction of data each of them represents.</b>"
   ]
  },
  {
   "cell_type": "code",
   "execution_count": 10,
   "id": "76a55e79",
   "metadata": {},
   "outputs": [],
   "source": [
    "import numpy as np\n",
    "import pandas as pd\n",
    "from collections import Counter\n",
    "import bz2\n",
    "from matplotlib import pyplot as plt"
   ]
  },
  {
   "cell_type": "code",
   "execution_count": 16,
   "id": "37a94d38",
   "metadata": {},
   "outputs": [],
   "source": [
    "file = bz2.open('/Users/dannystatland/Drive/MBA/machine_learning/ex2/enwiki-latest.csv.bz2', 'rt') "
   ]
  },
  {
   "cell_type": "code",
   "execution_count": 3,
   "id": "f589c1de",
   "metadata": {},
   "outputs": [],
   "source": [
    "c = Counter((x.lower() for y in file for x in y.split()))"
   ]
  },
  {
   "cell_type": "code",
   "execution_count": 24,
   "id": "714661ca",
   "metadata": {},
   "outputs": [
    {
     "data": {
      "text/plain": [
       "18739565"
      ]
     },
     "execution_count": 24,
     "metadata": {},
     "output_type": "execute_result"
    }
   ],
   "source": [
    "#count numer of unique words in wikipedia\n",
    "len(c)"
   ]
  },
  {
   "cell_type": "code",
   "execution_count": 5,
   "id": "9e71080a",
   "metadata": {},
   "outputs": [
    {
     "data": {
      "text/plain": [
       "2736622134"
      ]
     },
     "execution_count": 5,
     "metadata": {},
     "output_type": "execute_result"
    }
   ],
   "source": [
    "#count total number of words in wikipedia\n",
    "num_of_words = sum(c.values())\n",
    "num_of_words"
   ]
  },
  {
   "cell_type": "code",
   "execution_count": 9,
   "id": "d9099100",
   "metadata": {},
   "outputs": [
    {
     "name": "stdout",
     "output_type": "stream",
     "text": [
      "the 0.0672\n",
      "of 0.0343\n",
      "and 0.0281\n",
      "in 0.0276\n",
      "to 0.0190\n",
      "was 0.0109\n",
      "is 0.0087\n",
      "for 0.0083\n",
      "on 0.0081\n",
      "as 0.0080\n",
      "by 0.0071\n",
      "with 0.0070\n",
      "he 0.0055\n",
      "at 0.0055\n",
      "from 0.0053\n",
      "that 0.0052\n",
      "his 0.0044\n",
      "it 0.0043\n",
      "an 0.0037\n",
      "were 0.0029\n"
     ]
    }
   ],
   "source": [
    "#20 most common words and their fraction \n",
    "most_common = c.most_common(20)\n",
    "for i in range(len(most_common)):\n",
    "    print(most_common[i][0], \"%.4f\" % (most_common[i][1]/num_of_words))"
   ]
  },
  {
   "cell_type": "code",
   "execution_count": 26,
   "id": "443c89bc",
   "metadata": {},
   "outputs": [
    {
     "data": {
      "image/png": "[encoded data removed]",
      "text/plain": [
       "<Figure size 432x288 with 1 Axes>"
      ]
     },
     "metadata": {
      "needs_background": "light"
     },
     "output_type": "display_data"
    }
   ],
   "source": [
    "#plot histogram\n",
    "counts = pd.Series(c.values())\n",
    "plt.hist(np.log(counts), bins=50)\n",
    "plt.xlabel('word frequency in wiki-corpus')\n",
    "plt.ylabel('number of words')\n",
    "plt.title('word frequencies')\n",
    "plt.show()"
   ]
  },
  {
   "cell_type": "markdown",
   "id": "b1f35480",
   "metadata": {},
   "source": [
    "We can learn from the histogram that the number of words with low frequency is significantly higher than the number of words with high frequency. It appears that the majority of words repeat less than 2 times. "
   ]
  }
 ],
 "metadata": {
  "kernelspec": {
   "display_name": "Python 3 (ipykernel)",
   "language": "python",
   "name": "python3"
  },
  "language_info": {
   "codemirror_mode": {
    "name": "ipython",
    "version": 3
   },
   "file_extension": ".py",
   "mimetype": "text/x-python",
   "name": "python",
   "nbconvert_exporter": "python",
   "pygments_lexer": "ipython3",
   "version": "3.10.0"
  }
 },
 "nbformat": 4,
 "nbformat_minor": 5
}
